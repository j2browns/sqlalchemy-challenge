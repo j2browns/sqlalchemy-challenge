{
 "cells": [
  {
   "cell_type": "markdown",
   "metadata": {},
   "source": [
    "#######################################################################################################################\n",
    "# SQLAlchemy Homework\n",
    "### Following code solves the homework for the SQLAlchemy Assignment. \n",
    "### A second section related to using Flask for generating API calls is contained in the python code app.py\n",
    "\n",
    "#######################################################################################################################"
   ]
  },
  {
   "cell_type": "code",
   "execution_count": 66,
   "metadata": {},
   "outputs": [],
   "source": [
    "#Importing required modules\n",
    "%matplotlib inline\n",
    "from matplotlib import style\n",
    "style.use('seaborn')\n",
    "import matplotlib.pyplot as plt"
   ]
  },
  {
   "cell_type": "code",
   "execution_count": 67,
   "metadata": {},
   "outputs": [],
   "source": [
    "import numpy as np\n",
    "import pandas as pd\n"
   ]
  },
  {
   "cell_type": "code",
   "execution_count": 68,
   "metadata": {},
   "outputs": [],
   "source": [
    "import datetime as dt"
   ]
  },
  {
   "cell_type": "code",
   "execution_count": 69,
   "metadata": {},
   "outputs": [],
   "source": [
    "#disable warnings\n",
    "import warnings\n",
    "warnings.filterwarnings('ignore')\n",
    "warnings.simplefilter('ignore')"
   ]
  },
  {
   "cell_type": "markdown",
   "metadata": {},
   "source": [
    "# Reflect Tables into SQLAlchemy ORM"
   ]
  },
  {
   "cell_type": "code",
   "execution_count": 70,
   "metadata": {},
   "outputs": [],
   "source": [
    "# Python SQL toolkit and Object Relational Mapper\n",
    "import sqlalchemy\n",
    "from sqlalchemy.ext.automap import automap_base\n",
    "from sqlalchemy.orm import Session\n",
    "from sqlalchemy import create_engine, func,  inspect, distinct"
   ]
  },
  {
   "cell_type": "code",
   "execution_count": 71,
   "metadata": {},
   "outputs": [],
   "source": [
    "engine = create_engine(\"sqlite:///Resources/hawaii.sqlite\")"
   ]
  },
  {
   "cell_type": "code",
   "execution_count": 72,
   "metadata": {},
   "outputs": [
    {
     "data": {
      "text/plain": [
       "['measurement', 'station']"
      ]
     },
     "execution_count": 72,
     "metadata": {},
     "output_type": "execute_result"
    }
   ],
   "source": [
    "#checking names of tables contained in sql database\n",
    "Base = automap_base()\n",
    "Base.prepare(engine, reflect=True)\n",
    "Base.classes.keys()\n"
   ]
  },
  {
   "cell_type": "code",
   "execution_count": 73,
   "metadata": {},
   "outputs": [],
   "source": [
    "#creating object for measurement and station\n",
    "Measurement = Base.classes.measurement\n",
    "Station = Base.classes.station\n",
    "session = Session(engine)"
   ]
  },
  {
   "cell_type": "code",
   "execution_count": 74,
   "metadata": {},
   "outputs": [
    {
     "data": {
      "text/plain": [
       "['measurement', 'station']"
      ]
     },
     "execution_count": 74,
     "metadata": {},
     "output_type": "execute_result"
    }
   ],
   "source": [
    "#setting up inspector and confirming table names\n",
    "inspector = inspect(engine)\n",
    "inspector.get_table_names()\n"
   ]
  },
  {
   "cell_type": "code",
   "execution_count": 75,
   "metadata": {},
   "outputs": [
    {
     "name": "stdout",
     "output_type": "stream",
     "text": [
      "id INTEGER\n",
      "station TEXT\n",
      "date TEXT\n",
      "prcp FLOAT\n",
      "tobs FLOAT\n"
     ]
    }
   ],
   "source": [
    "# Get a list of column names and types in measurement\n",
    "columns = inspector.get_columns('measurement')\n",
    "for c in columns:\n",
    "    print(c['name'], c[\"type\"])\n"
   ]
  },
  {
   "cell_type": "code",
   "execution_count": 76,
   "metadata": {},
   "outputs": [
    {
     "name": "stdout",
     "output_type": "stream",
     "text": [
      "id INTEGER\n",
      "station TEXT\n",
      "name TEXT\n",
      "latitude FLOAT\n",
      "longitude FLOAT\n",
      "elevation FLOAT\n"
     ]
    }
   ],
   "source": [
    "# Get a list of column names and types in station\n",
    "columns = inspector.get_columns('station')\n",
    "for c in columns:\n",
    "    print(c['name'], c[\"type\"])"
   ]
  },
  {
   "cell_type": "markdown",
   "metadata": {},
   "source": [
    "# Exploratory Climate Analysis"
   ]
  },
  {
   "cell_type": "markdown",
   "metadata": {},
   "source": [
    "### The following analysis extracts the precipitation from the last 12 months of the SQL database and plots the daily precipitation and then prints the total monthly precipitation calculated from the data.  The second plot was not requested in the readme file but the starter code seemed to ask for the monthly average so did both.\n"
   ]
  },
  {
   "cell_type": "code",
   "execution_count": 77,
   "metadata": {},
   "outputs": [
    {
     "name": "stdout",
     "output_type": "stream",
     "text": [
      "The latest date in the data base is: 2017-08-23\n",
      "The earliest date in the data base is: 2010-01-01\n"
     ]
    }
   ],
   "source": [
    "#Analysis of precipitation data to find the maximum and minimum date in the sheet.\n",
    "sel = [ Measurement.date, Measurement.prcp] #pulling only date and precipitation.\n",
    "weather_data = session.query(*sel).all() \n",
    "session.close()\n",
    "\n",
    "min_date_record = dt.date(3000,1,1)\n",
    "max_date = dt.date(1900,1,1) #need this as dummy for starting to analyze the data.  If this was returned as max date\n",
    "                                #would have to set as lower number.\n",
    "for record in weather_data:\n",
    "    (ME_date, ME_Prec) = record\n",
    "    if ME_date > str(max_date):\n",
    "        max_date = ME_date\n",
    "    if ME_date < str(min_date_record):\n",
    "        min_date_record = ME_date\n",
    "print(f\"The latest date in the data base is: {max_date}\")\n",
    "print(f\"The earliest date in the data base is: {min_date_record}\")"
   ]
  },
  {
   "cell_type": "code",
   "execution_count": 78,
   "metadata": {},
   "outputs": [
    {
     "name": "stdout",
     "output_type": "stream",
     "text": [
      "End date of database (most recent year): 2017-08-23\n",
      "Start date for 12 months earlier: 2016-08-23\n"
     ]
    }
   ],
   "source": [
    "#finding last twelve months in database\n",
    "YMD = max_date.split('-')\n",
    "max_date = dt.date(int(YMD[0]),int(YMD[1]),int(YMD[2]))\n",
    "min_date = max_date - dt.timedelta(days=365)\n",
    "print(f\"End date of database (most recent year): {max_date}\")\n",
    "print(f\"Start date for 12 months earlier: {min_date}\")"
   ]
  },
  {
   "cell_type": "code",
   "execution_count": 79,
   "metadata": {},
   "outputs": [
    {
     "data": {
      "text/html": [
       "<div>\n",
       "<style scoped>\n",
       "    .dataframe tbody tr th:only-of-type {\n",
       "        vertical-align: middle;\n",
       "    }\n",
       "\n",
       "    .dataframe tbody tr th {\n",
       "        vertical-align: top;\n",
       "    }\n",
       "\n",
       "    .dataframe thead th {\n",
       "        text-align: right;\n",
       "    }\n",
       "</style>\n",
       "<table border=\"1\" class=\"dataframe\">\n",
       "  <thead>\n",
       "    <tr style=\"text-align: right;\">\n",
       "      <th></th>\n",
       "      <th>Precip</th>\n",
       "    </tr>\n",
       "    <tr>\n",
       "      <th>Date</th>\n",
       "      <th></th>\n",
       "    </tr>\n",
       "  </thead>\n",
       "  <tbody>\n",
       "    <tr>\n",
       "      <th>2016-08-23</th>\n",
       "      <td>0.00</td>\n",
       "    </tr>\n",
       "    <tr>\n",
       "      <th>2016-08-23</th>\n",
       "      <td>0.02</td>\n",
       "    </tr>\n",
       "    <tr>\n",
       "      <th>2016-08-23</th>\n",
       "      <td>0.05</td>\n",
       "    </tr>\n",
       "    <tr>\n",
       "      <th>2016-08-23</th>\n",
       "      <td>0.70</td>\n",
       "    </tr>\n",
       "    <tr>\n",
       "      <th>2016-08-23</th>\n",
       "      <td>0.15</td>\n",
       "    </tr>\n",
       "    <tr>\n",
       "      <th>2016-08-23</th>\n",
       "      <td>1.79</td>\n",
       "    </tr>\n",
       "    <tr>\n",
       "      <th>2016-08-24</th>\n",
       "      <td>1.22</td>\n",
       "    </tr>\n",
       "    <tr>\n",
       "      <th>2016-08-24</th>\n",
       "      <td>0.08</td>\n",
       "    </tr>\n",
       "    <tr>\n",
       "      <th>2016-08-24</th>\n",
       "      <td>2.15</td>\n",
       "    </tr>\n",
       "    <tr>\n",
       "      <th>2016-08-24</th>\n",
       "      <td>2.15</td>\n",
       "    </tr>\n",
       "  </tbody>\n",
       "</table>\n",
       "</div>"
      ],
      "text/plain": [
       "            Precip\n",
       "Date              \n",
       "2016-08-23    0.00\n",
       "2016-08-23    0.02\n",
       "2016-08-23    0.05\n",
       "2016-08-23    0.70\n",
       "2016-08-23    0.15\n",
       "2016-08-23    1.79\n",
       "2016-08-24    1.22\n",
       "2016-08-24    0.08\n",
       "2016-08-24    2.15\n",
       "2016-08-24    2.15"
      ]
     },
     "execution_count": 79,
     "metadata": {},
     "output_type": "execute_result"
    }
   ],
   "source": [
    "#opening query to extract information from both tables \n",
    "#sel list is date and precipitation\n",
    "sel = [ Measurement.date, Measurement.prcp] #pulling only date and precipitation.\n",
    "weather_filter = session.query(*sel).\\\n",
    "    filter((Measurement.date <= max_date)& (Measurement.date >= min_date)).all()\n",
    "session.close()\n",
    "\n",
    "\n",
    "#creating dataframe with information as dictated in directions.\n",
    "precip_df = pd.DataFrame(columns = [\"Date\",\"Precip\"])\n",
    "for record in weather_filter:\n",
    "    (ME_date, ME_Prec) = record\n",
    "    precip_df = precip_df.append({\"Date\":ME_date, \"Precip\":ME_Prec}, ignore_index = True)\n",
    "precip_df.dropna(inplace = True)\n",
    "precip_df = precip_df.set_index(\"Date\")\n",
    "precip_df.sort_index(inplace=True)\n",
    "precip_df.head(10)"
   ]
  },
  {
   "cell_type": "code",
   "execution_count": 89,
   "metadata": {},
   "outputs": [
    {
     "data": {
      "image/png": "[encoded data removed]",
      "text/plain": [
       "<Figure size 792x576 with 1 Axes>"
      ]
     },
     "metadata": {},
     "output_type": "display_data"
    }
   ],
   "source": [
    "#creating plot of daily average precipitation.  Using Datafram plot method.\n",
    "precip_df.plot(kind=\"line\", color = \"r\", figsize=(11,8),lw=1,fontsize=13)\n",
    "plt.xlabel(\"Date\",fontsize=15)\n",
    "plt.ylabel(\"Average Precipitation\",fontsize=15)\n",
    "plt.title( \"Precipitation Versus Day\",fontsize = 15)\n",
    "plt.xticks(rotation=45)\n",
    "plt.tight_layout()\n",
    "plt.show()"
   ]
  },
  {
   "cell_type": "code",
   "execution_count": 29,
   "metadata": {},
   "outputs": [
    {
     "name": "stdout",
     "output_type": "stream",
     "text": [
      "Summary Statistics for Precipitation Date\n",
      "\n",
      "count    2021.000000\n",
      "mean        0.177279\n",
      "std         0.461190\n",
      "min         0.000000\n",
      "25%         0.000000\n",
      "50%         0.020000\n",
      "75%         0.130000\n",
      "max         6.700000\n",
      "Name: Precip, dtype: float64\n"
     ]
    }
   ],
   "source": [
    "print(\"Summary Statistics for Precipitation Date\\n\")\n",
    "\n",
    "print(precip_df[\"Precip\"].describe())"
   ]
  },
  {
   "cell_type": "markdown",
   "metadata": {},
   "source": [
    "### Following is extra work looking at precipitation over date range by month"
   ]
  },
  {
   "cell_type": "code",
   "execution_count": 90,
   "metadata": {},
   "outputs": [],
   "source": [
    "#dataframe includes data from many stations. Therefore perform groupby on date and then average for day of all stations.\n",
    "\n",
    "precip_groupby = precip_df.groupby(\"Date\")\n",
    "precip_group_series = precip_groupby[\"Precip\"].mean()\n",
    "precip_group_df = pd.DataFrame({'Date':precip_group_series.index, 'Precip':precip_group_series.values})\n",
    "precip_group_df = precip_group_df.set_index('Date')\n",
    "precip_group_df.sort_index(inplace=True)\n",
    "\n"
   ]
  },
  {
   "cell_type": "code",
   "execution_count": 92,
   "metadata": {},
   "outputs": [],
   "source": [
    "#Extracting Month and year from date and placing in dataframe.  To help in finding monthly sum.\n",
    "date_series = precip_group_df.index.to_series()\n",
    "precip_group_df[\"Month\"]=[int((precip_group_df.index[i]).split('-')[1]) for i in range(0,len(date_series))]\n",
    "precip_group_df[\"Year\"]=[int((precip_group_df.index[i]).split('-')[0]) for i in range(0,len(date_series))]\n"
   ]
  },
  {
   "cell_type": "code",
   "execution_count": 102,
   "metadata": {},
   "outputs": [],
   "source": [
    "#using group by to find total precip for month.  August is incomplete so combine Aug from 2016 and 2017\n",
    "precip_groupby = precip_group_df.groupby([\"Year\",\"Month\"])\n",
    "precip_monthly_average = precip_groupby[\"Precip\"].sum()\n",
    "precip_monthly_average[0]=precip_monthly_average[0]+precip_monthly_average[-1]\n",
    "precip_monthly_average = precip_monthly_average.head(12)"
   ]
  },
  {
   "cell_type": "code",
   "execution_count": 108,
   "metadata": {},
   "outputs": [
    {
     "data": {
      "image/png": "[encoded data removed]",
      "text/plain": [
       "<Figure size 576x432 with 1 Axes>"
      ]
     },
     "metadata": {},
     "output_type": "display_data"
    }
   ],
   "source": [
    "#Setting up bar chart for monthly total precipation over specified date range\n",
    "#gettign data for plot\n",
    "x_data = [precip_monthly_average.index[i][1] for i in range(0,len(precip_monthly_average))] #extracting month into series\n",
    "y_data = [round(precip_monthly_average[i],2) for i in range(0,len(precip_monthly_average))] #extracting precip into series\n",
    "\n",
    "#creating month association dictionnary to use name of month rather than number in plot.\n",
    "Month_Assoc = [(1, 'Jan'), (2, 'Feb'), (3,'Mar'), (4, 'Apr'), (5,'May'),(6,'June'),\n",
    "              (7, 'July'),(8,'Aug'),(9,'Sept'),(10,'Oct'),(11,'Nov'),(12,'Dec')]\n",
    "\n",
    "x_data_month = []\n",
    "#Creating list of months by name in order of x_data\n",
    "for i in range(0,len(x_data)):\n",
    "    for j in range(0,len(Month_Assoc)):\n",
    "        if x_data[i] == Month_Assoc[j][0]:\n",
    "            x_data_month.append(Month_Assoc[j][1])\n",
    "            break\n",
    "\n",
    "plt.figure(figsize=(8,6))\n",
    "plt.bar(x_data_month, y_data, color='g', width = 0.7, alpha=0.7, align=\"center\") #alpha is how transparent bars are\n",
    "plt.ylim(0, 10.5)\n",
    "\n",
    "plt.title(\"Total Monthly Precipitation Starting Aug 2016 to July 2017\",fontsize=15)\n",
    "plt.xlabel(\"Month\",fontsize=15)\n",
    "plt.ylabel(\"Total Precipitation\",fontsize=15)\n",
    "plt.tick_params(axis='x', labelsize=13)\n",
    "plt.tick_params(axis='y', labelsize=13)\n",
    "\n",
    "plt.tight_layout() #tight layout helps to arrange the graph to look nicer\n",
    "\n",
    "plt.show()"
   ]
  },
  {
   "cell_type": "markdown",
   "metadata": {},
   "source": [
    "## Code below gets information for stations"
   ]
  },
  {
   "cell_type": "code",
   "execution_count": 109,
   "metadata": {},
   "outputs": [
    {
     "name": "stdout",
     "output_type": "stream",
     "text": [
      "id INTEGER\n",
      "station TEXT\n",
      "name TEXT\n",
      "latitude FLOAT\n",
      "longitude FLOAT\n",
      "elevation FLOAT\n"
     ]
    }
   ],
   "source": [
    "# Get a list of column names and types in station\n",
    "columns = inspector.get_columns('station')\n",
    "for c in columns:\n",
    "    print(c['name'], c[\"type\"])\n",
    "session.close()"
   ]
  },
  {
   "cell_type": "code",
   "execution_count": 110,
   "metadata": {},
   "outputs": [
    {
     "name": "stdout",
     "output_type": "stream",
     "text": [
      "Number of Stations: (9,)\n"
     ]
    }
   ],
   "source": [
    "# Design a query to show how many stations are available in this dataset?\n",
    "\n",
    "station_count, = (session.query(func.count(Station.id)).all())\n",
    "session.close()\n",
    "\n",
    "print(f\"Number of Stations: {station_count}\")\n"
   ]
  },
  {
   "cell_type": "code",
   "execution_count": 111,
   "metadata": {},
   "outputs": [
    {
     "name": "stdout",
     "output_type": "stream",
     "text": [
      "\n",
      "List of stations and station name\n",
      "\n",
      "['USC00519397', 'USC00513117', 'USC00514830', 'USC00517948', 'USC00518838', 'USC00519523', 'USC00519281', 'USC00511918', 'USC00516128']\n",
      "['WAIKIKI 717.2, HI US', 'KANEOHE 838.1, HI US', 'KUALOA RANCH HEADQUARTERS 886.9, HI US', 'PEARL CITY, HI US', 'UPPER WAHIAWA 874.3, HI US', 'WAIMANALO EXPERIMENTAL FARM, HI US', 'WAIHEE 837.5, HI US', 'HONOLULU OBSERVATORY 702.2, HI US', 'MANOA LYON ARBO 785.2, HI US']\n"
     ]
    }
   ],
   "source": [
    "\n",
    "Stations = session.query(Station.station, Station.name).all() \n",
    "session.close()\n",
    "\n",
    "#Get station name list to help search through for maximum counts\n",
    "station_list = []\n",
    "station_name = []\n",
    "for record in Stations:\n",
    "    station = record[0]\n",
    "    name = record[1]\n",
    "    station_list.append(station)\n",
    "    station_name.append(name)\n",
    "print(\"\")\n",
    "\n",
    "#Use data from above to get station counts, store in station_counts_df as DataFrame\n",
    "station_counts_df = pd.DataFrame(columns = [\"Station\",\"Counts\"])\n",
    "for stn in station_list:\n",
    "    temp = session.query(Measurement.station,func.count(Measurement.station)).\\\n",
    "                filter(Measurement.station == stn).\\\n",
    "                order_by(func.count(Measurement.station)).all()\n",
    "    station_counts_df = station_counts_df.append({\"Station\":temp[0][0],\"Counts\":temp[0][1]}, ignore_index = True)\n",
    "session.close()\n",
    "station_counts_df.sort_values([\"Counts\"],ascending = False,inplace=True)\n",
    "\n",
    "print(f\"List of stations and station name\")\n",
    "print(\"\")\n",
    "print(station_list)\n",
    "print(station_name)"
   ]
  },
  {
   "cell_type": "code",
   "execution_count": 112,
   "metadata": {},
   "outputs": [
    {
     "name": "stdout",
     "output_type": "stream",
     "text": [
      "       Station Counts\n",
      "6  USC00519281   2772\n",
      "0  USC00519397   2724\n",
      "1  USC00513117   2709\n",
      "5  USC00519523   2669\n",
      "8  USC00516128   2612\n",
      "2  USC00514830   2202\n",
      "7  USC00511918   1979\n",
      "3  USC00517948   1372\n",
      "4  USC00518838    511\n",
      "The station with the highest counts is: USC00519281\n"
     ]
    }
   ],
   "source": [
    "# What are the most active stations? (i.e. what stations have the most rows)?\n",
    "# List the stations and the counts in descending order.\n",
    "#Easy to sort in DataFrame\n",
    "print(station_counts_df)\n",
    "station_max = station_counts_df.iloc[0][0]\n",
    "\n",
    "print(f\"The station with the highest counts is: {station_counts_df.iloc[0][0]}\")"
   ]
  },
  {
   "cell_type": "code",
   "execution_count": 113,
   "metadata": {
    "scrolled": true
   },
   "outputs": [
    {
     "name": "stdout",
     "output_type": "stream",
     "text": [
      "The highest temperature from USC00519281 is 85.0 F\n",
      "The lowest temperature from USC00519281 is 54.0 F\n",
      "The average temperature from USC00519281 is 71.7 F\n"
     ]
    }
   ],
   "source": [
    "# Using the station id from the previous query, calculate the lowest temperature recorded, \n",
    "# highest temperature recorded, and average temperature of the most active station?\n",
    "sel = [func.max(Measurement.tobs), func.min(Measurement.tobs), func.avg(Measurement.tobs)]\n",
    "temp_detail, = session.query(*sel).\\\n",
    "                filter(Measurement.station == station_max).all()\n",
    "\n",
    "print(f\"The highest temperature from {station_max} is {temp_detail[0]} F\")\n",
    "print(f\"The lowest temperature from {station_max} is {temp_detail[1]} F\")\n",
    "print(f\"The average temperature from {station_max} is {round(temp_detail[2],1)} F\")"
   ]
  },
  {
   "cell_type": "code",
   "execution_count": 114,
   "metadata": {},
   "outputs": [
    {
     "data": {
      "text/html": [
       "<div>\n",
       "<style scoped>\n",
       "    .dataframe tbody tr th:only-of-type {\n",
       "        vertical-align: middle;\n",
       "    }\n",
       "\n",
       "    .dataframe tbody tr th {\n",
       "        vertical-align: top;\n",
       "    }\n",
       "\n",
       "    .dataframe thead th {\n",
       "        text-align: right;\n",
       "    }\n",
       "</style>\n",
       "<table border=\"1\" class=\"dataframe\">\n",
       "  <thead>\n",
       "    <tr style=\"text-align: right;\">\n",
       "      <th></th>\n",
       "      <th>Station</th>\n",
       "      <th>Date</th>\n",
       "      <th>Temp</th>\n",
       "    </tr>\n",
       "  </thead>\n",
       "  <tbody>\n",
       "    <tr>\n",
       "      <th>0</th>\n",
       "      <td>USC00519281</td>\n",
       "      <td>2016-08-23</td>\n",
       "      <td>77.0</td>\n",
       "    </tr>\n",
       "    <tr>\n",
       "      <th>1</th>\n",
       "      <td>USC00519281</td>\n",
       "      <td>2016-08-24</td>\n",
       "      <td>77.0</td>\n",
       "    </tr>\n",
       "    <tr>\n",
       "      <th>2</th>\n",
       "      <td>USC00519281</td>\n",
       "      <td>2016-08-25</td>\n",
       "      <td>80.0</td>\n",
       "    </tr>\n",
       "    <tr>\n",
       "      <th>3</th>\n",
       "      <td>USC00519281</td>\n",
       "      <td>2016-08-26</td>\n",
       "      <td>80.0</td>\n",
       "    </tr>\n",
       "    <tr>\n",
       "      <th>4</th>\n",
       "      <td>USC00519281</td>\n",
       "      <td>2016-08-27</td>\n",
       "      <td>75.0</td>\n",
       "    </tr>\n",
       "  </tbody>\n",
       "</table>\n",
       "</div>"
      ],
      "text/plain": [
       "       Station        Date  Temp\n",
       "0  USC00519281  2016-08-23  77.0\n",
       "1  USC00519281  2016-08-24  77.0\n",
       "2  USC00519281  2016-08-25  80.0\n",
       "3  USC00519281  2016-08-26  80.0\n",
       "4  USC00519281  2016-08-27  75.0"
      ]
     },
     "execution_count": 114,
     "metadata": {},
     "output_type": "execute_result"
    }
   ],
   "source": [
    "# Choose the station with the highest number of temperature observations.\n",
    "# Query the last 12 months of temperature observation data for this station and plot the results as a histogram\n",
    "sel = [Measurement.station,Measurement.date, Measurement.tobs]\n",
    "temp_survey = session.query(*sel).\\\n",
    "                filter(Measurement.station == station_max).\\\n",
    "                filter((Measurement.date <= max_date)& (Measurement.date >= min_date)).all()\n",
    "\n",
    "temp_survey_df = pd.DataFrame(columns = [\"Station\",\"Date\", \"Temp\"])\n",
    "for record in temp_survey:\n",
    "    (Me_date, Me_stn,Me_temp) = record\n",
    "    temp_survey_df = temp_survey_df.append({\"Station\":Me_date,\"Date\":Me_stn,\"Temp\":Me_temp}, ignore_index = True)\n",
    "    \n",
    "temp_survey_df.head()"
   ]
  },
  {
   "cell_type": "code",
   "execution_count": 124,
   "metadata": {},
   "outputs": [
    {
     "data": {
      "image/png": "[encoded data removed]",
      "text/plain": [
       "<Figure size 720x432 with 1 Axes>"
      ]
     },
     "metadata": {},
     "output_type": "display_data"
    }
   ],
   "source": [
    "temp_survey_df.plot.hist(by=\"Temp\", bins=12,color = \"b\", width = 1.5,alpha = 0.7,\n",
    "                         figsize=(10,6))\n",
    "plt.xlabel(\"Daily Temperature (F)\",fontsize = 15)\n",
    "plt.ylabel(\"Frequency\",fontsize=15)\n",
    "plt.title(f\"Precipitation Histogram for {station_max}\",fontsize=15)\n",
    "plt.tick_params(axis='x', labelsize=13)\n",
    "plt.tick_params(axis='y', labelsize=13)\n",
    "plt.show()"
   ]
  },
  {
   "cell_type": "code",
   "execution_count": null,
   "metadata": {},
   "outputs": [],
   "source": []
  },
  {
   "cell_type": "markdown",
   "metadata": {},
   "source": [
    "########################################################################################################\n",
    "\n",
    "# Section 2 - Use of Flask\n",
    "\n",
    "### Please see the app.py routine for this section of code\n",
    "\n",
    "########################################################################################################"
   ]
  },
  {
   "cell_type": "markdown",
   "metadata": {},
   "source": [
    "## Bonus Challenge Assignment\n",
    "### Read me file shows two challenges Temperature Analysis I and Analysis II"
   ]
  },
  {
   "cell_type": "markdown",
   "metadata": {},
   "source": [
    "#### Bonus Temperature Analysis I"
   ]
  },
  {
   "cell_type": "code",
   "execution_count": 125,
   "metadata": {},
   "outputs": [],
   "source": [
    "from statistics import mean\n",
    "import scipy.stats as stats"
   ]
  },
  {
   "cell_type": "code",
   "execution_count": 126,
   "metadata": {},
   "outputs": [
    {
     "name": "stdout",
     "output_type": "stream",
     "text": [
      "t-Test comparing June and Dec Temperatures in Hawaii\n",
      "\n",
      "Ttest_indResult(statistic=31.355036920962423, pvalue=4.193529835915755e-187)\n",
      "\n",
      "The p_value of 4.193529835915755e-187 is less than or equal to 0.05 so reject the Null Hypothesis\n"
     ]
    }
   ],
   "source": [
    "#Bonus Temperature Analysis #1 - Taken from Readme file\n",
    "#Get all temperatures in June and December from Database and perform statistical test of significance\n",
    "\n",
    "# Query for all dates matching the \n",
    "# following date string in the format `%d`\n",
    "date_str = \"06\" #June is 6th month\n",
    "sel = [Measurement.date,Measurement.tobs]\n",
    "June_Temp = session.query(*sel).\\\n",
    "    filter(func.strftime(\"%m\", Measurement.date) == date_str).all()\n",
    "session.close()\n",
    "\n",
    "J_Temp = []\n",
    "for record in June_Temp:\n",
    "    (Me_date,Me_temp) = record\n",
    "    J_Temp.append(Me_temp)\n",
    "\n",
    "#Getting December Date\n",
    "date_str = \"12\" #June is 6th month\n",
    "sel = [Measurement.date,Measurement.tobs]\n",
    "Dec_Temp = session.query(*sel).\\\n",
    "    filter(func.strftime(\"%m\", Measurement.date) == date_str).all()\n",
    "session.close()\n",
    "\n",
    "D_Temp = []\n",
    "for record in Dec_Temp:\n",
    "    (Me_date,Me_temp) = record\n",
    "    D_Temp.append(Me_temp)\n",
    "\n",
    "\n",
    "#For t-test using two sample t-test since the Temperatures in June and Dec are taken from different populations\n",
    "T_Test = stats.ttest_ind(a=J_Temp,b=D_Temp,equal_var=False)\n",
    "p_value = T_Test[1]\n",
    "print(f\"t-Test comparing June and Dec Temperatures in Hawaii\")\n",
    "print(\"\")\n",
    "print(T_Test)\n",
    "print(\"\")\n",
    "if p_value > 0.05:\n",
    "    print(f\"The p_value of {p_value} is greater than 0.05 so can't reject Null Hypothesis\")\n",
    "else:\n",
    "    print(f\"The p_value of {p_value} is less than or equal to 0.05 so reject the Null Hypothesis\")\n"
   ]
  },
  {
   "cell_type": "code",
   "execution_count": 130,
   "metadata": {},
   "outputs": [
    {
     "data": {
      "image/png": "[encoded data removed]",
      "text/plain": [
       "<Figure size 576x396 with 1 Axes>"
      ]
     },
     "metadata": {},
     "output_type": "display_data"
    }
   ],
   "source": [
    "#Generating a box plot to help visualize\n",
    "red_diamond = dict(markerfacecolor='r', marker='D')\n",
    "labels = ['June', 'December']\n",
    "\n",
    "fig1, ax1 = plt.subplots()\n",
    "ax1.set_title('Comparing Temperatures June and December', fontsize = 20)\n",
    "ax1.set_ylabel('Temperature (F)', fontsize = 20)\n",
    "ax1.boxplot([J_Temp,D_Temp], showfliers = True,\n",
    "           flierprops = red_diamond, labels=labels)\n",
    "plt.tick_params(axis='x', labelsize=15)\n",
    "plt.tick_params(axis='y', labelsize=15)\n",
    "plt.show()"
   ]
  },
  {
   "cell_type": "code",
   "execution_count": null,
   "metadata": {},
   "outputs": [],
   "source": [
    "# This function called `calc_temps` will accept start date and end date in the format '%Y-%m-%d' \n",
    "# and return the minimum, average, and maximum temperatures for that range of dates\n",
    "def calc_temps(start_date, end_date):\n",
    "    \"\"\"TMIN, TAVG, and TMAX for a list of dates.\n",
    "    \n",
    "    Args:\n",
    "        start_date (string): A date string in the format %Y-%m-%d\n",
    "        end_date (string): A date string in the format %Y-%m-%d\n",
    "        \n",
    "    Returns:\n",
    "        TMIN, TAVE, and TMAX\n",
    "    \"\"\"\n",
    "    \n",
    "    return session.query(func.min(Measurement.tobs), func.avg(Measurement.tobs), func.max(Measurement.tobs)).\\\n",
    "        filter(Measurement.date >= start_date).filter(Measurement.date <= end_date).all()\n",
    "\n",
    "# function usage example\n",
    "print(calc_temps('2012-02-28', '2012-03-05'))"
   ]
  },
  {
   "cell_type": "code",
   "execution_count": null,
   "metadata": {},
   "outputs": [],
   "source": [
    "# Use your previous function `calc_temps` to calculate the tmin, tavg, and tmax \n",
    "# for your trip using the previous year's data for those same dates.\n"
   ]
  },
  {
   "cell_type": "code",
   "execution_count": null,
   "metadata": {},
   "outputs": [],
   "source": [
    "# Plot the results from your previous query as a bar chart. \n",
    "# Use \"Trip Avg Temp\" as your Title\n",
    "# Use the average temperature for the y value\n",
    "# Use the peak-to-peak (tmax-tmin) value as the y error bar (yerr)\n"
   ]
  },
  {
   "cell_type": "code",
   "execution_count": null,
   "metadata": {},
   "outputs": [],
   "source": [
    "# Calculate the total amount of rainfall per weather station for your trip dates using the previous year's matching dates.\n",
    "# Sort this in descending order by precipitation amount and list the station, name, latitude, longitude, and elevation\n",
    "\n"
   ]
  },
  {
   "cell_type": "code",
   "execution_count": null,
   "metadata": {},
   "outputs": [],
   "source": [
    "# Create a query that will calculate the daily normals \n",
    "# (i.e. the averages for tmin, tmax, and tavg for all historic data matching a specific month and day)\n",
    "\n",
    "def daily_normals(date):\n",
    "    \"\"\"Daily Normals.\n",
    "    \n",
    "    Args:\n",
    "        date (str): A date string in the format '%m-%d'\n",
    "        \n",
    "    Returns:\n",
    "        A list of tuples containing the daily normals, tmin, tavg, and tmax\n",
    "    \n",
    "    \"\"\"\n",
    "    \n",
    "    sel = [func.min(Measurement.tobs), func.avg(Measurement.tobs), func.max(Measurement.tobs)]\n",
    "    return session.query(*sel).filter(func.strftime(\"%m-%d\", Measurement.date) == date).all()\n",
    "    \n",
    "daily_normals(\"01-01\")"
   ]
  },
  {
   "cell_type": "code",
   "execution_count": null,
   "metadata": {},
   "outputs": [],
   "source": [
    "# calculate the daily normals for your trip\n",
    "# push each tuple of calculations into a list called `normals`\n",
    "\n",
    "# Set the start and end date of the trip\n",
    "\n",
    "# Use the start and end date to create a range of dates\n",
    "\n",
    "# Stip off the year and save a list of %m-%d strings\n",
    "\n",
    "# Loop through the list of %m-%d strings and calculate the normals for each date\n"
   ]
  },
  {
   "cell_type": "code",
   "execution_count": null,
   "metadata": {},
   "outputs": [],
   "source": [
    "# Load the previous query results into a Pandas DataFrame and add the `trip_dates` range as the `date` index\n"
   ]
  },
  {
   "cell_type": "code",
   "execution_count": null,
   "metadata": {},
   "outputs": [],
   "source": [
    "# Plot the daily normals as an area plot with `stacked=False`\n"
   ]
  }
 ],
 "metadata": {
  "kernel_info": {
   "name": "python3"
  },
  "kernelspec": {
   "display_name": "Python 3",
   "language": "python",
   "name": "python3"
  },
  "language_info": {
   "codemirror_mode": {
    "name": "ipython",
    "version": 3
   },
   "file_extension": ".py",
   "mimetype": "text/x-python",
   "name": "python",
   "nbconvert_exporter": "python",
   "pygments_lexer": "ipython3",
   "version": "3.6.10"
  },
  "nteract": {
   "version": "0.12.3"
  },
  "varInspector": {
   "cols": {
    "lenName": 16,
    "lenType": 16,
    "lenVar": 40
   },
   "kernels_config": {
    "python": {
     "delete_cmd_postfix": "",
     "delete_cmd_prefix": "del ",
     "library": "var_list.py",
     "varRefreshCmd": "print(var_dic_list())"
    },
    "r": {
     "delete_cmd_postfix": ") ",
     "delete_cmd_prefix": "rm(",
     "library": "var_list.r",
     "varRefreshCmd": "cat(var_dic_list()) "
    }
   },
   "types_to_exclude": [
    "module",
    "function",
    "builtin_function_or_method",
    "instance",
    "_Feature"
   ],
   "window_display": false
  }
 },
 "nbformat": 4,
 "nbformat_minor": 2
}
